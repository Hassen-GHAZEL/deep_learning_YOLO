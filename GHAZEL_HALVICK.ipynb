{
 "cells": [
  {
   "cell_type": "markdown",
   "id": "4ffbc910506b06cb",
   "metadata": {},
   "source": [
    "# But du projet\n",
    "\n",
    "Ce code utilise l'API Roboflow pour télécharger la dataset de 3 personnages de dragon ball :\n",
    "- Goku\n",
    "- Vegeta\n",
    "- Freezer"
   ]
  },
  {
   "cell_type": "markdown",
   "id": "337cdfffc31b1ca5",
   "metadata": {},
   "source": [
    "Executer cette commande pour installer la bibliothèque roboflow\n",
    "```\n",
    "pip install roboflow\n",
    "```"
   ]
  },
  {
   "cell_type": "markdown",
   "id": "fba656651d3373b8",
   "metadata": {},
   "source": [
    "# Installation des bibliothèques nécessaires"
   ]
  },
  {
   "cell_type": "code",
   "execution_count": 1,
   "id": "8848513d98e9f7c6",
   "metadata": {
    "ExecuteTime": {
     "end_time": "2024-12-15T21:49:05.880186Z",
     "start_time": "2024-12-15T21:49:05.875624Z"
    }
   },
   "outputs": [],
   "source": [
    "# Tous les imports nécessaires\n",
    "import shutil\n",
    "from roboflow import Roboflow\n",
    "import os\n",
    "import random\n",
    "import cv2\n",
    "from ultralytics import YOLO, settings\n",
    "import torch\n",
    "from moviepy.editor import VideoFileClip, ImageSequenceClip\n",
    "import sys\n",
    "import stat\n",
    "\n",
    "settings.update(datasets_dir='.') # on definit le dossier de sauvegarde des datasets\n"
   ]
  },
  {
   "cell_type": "markdown",
   "id": "9bc9ff5404c23a79",
   "metadata": {},
   "source": [
    "# Téléchargement du dataset via l'API Roboflow si elle n'est pas déjà présente"
   ]
  },
  {
   "cell_type": "code",
   "execution_count": 2,
   "id": "54193ec29be0e4e6",
   "metadata": {
    "ExecuteTime": {
     "end_time": "2024-12-15T21:49:50.267309Z",
     "start_time": "2024-12-15T21:49:05.897354Z"
    }
   },
   "outputs": [
    {
     "name": "stdout",
     "output_type": "stream",
     "text": [
      "loading Roboflow workspace...\n",
      "loading Roboflow project...\n",
      "Le dataset est déjà présent et complet.\n"
     ]
    }
   ],
   "source": [
    "# Exemple pour modifier les permissions du répertoire courant\n",
    "current_dir = os.getcwd()\n",
    "\n",
    "# Donner des permissions d'écriture au répertoire courant (777 donne des permissions complètes)\n",
    "os.chmod(current_dir, stat.S_IRWXU | stat.S_IRWXG | stat.S_IRWXO)\n",
    "\n",
    "# Initialiser l'objet Roboflow avec une clé API\n",
    "rf = Roboflow(api_key=\"aVyMuIoKSec5dyUaxD6H\")\n",
    "\n",
    "# Accéder à un projet spécifique dans un espace de travail\n",
    "project = rf.workspace(\"converter-sq0eo\").project(\"dbf-3hywn\")\n",
    "\n",
    "# Sélectionner une version spécifique du projet\n",
    "version = project.version(5)\n",
    "\n",
    "# Télécharger le dataset au format YOLOv8\n",
    "def download_dataset():\n",
    "    dataset = version.download(\"yolov8\")\n",
    "\n",
    "# Vérifier si un dossier contient les chaînes \"dbf\" et \"yolo\"\n",
    "def check_dataset_directory():\n",
    "    \n",
    "    # Récupérer le répertoire courant\n",
    "    current_dir = os.getcwd()\n",
    "    \n",
    "    # Parcourir les dossiers du répertoire courant\n",
    "    for dir_name in os.listdir(current_dir):\n",
    "        if \"dbf\" in dir_name.lower() and \"5\" in dir_name.lower():\n",
    "            dataset_dir = os.path.join(current_dir, dir_name)\n",
    "            if os.path.isdir(dataset_dir):\n",
    "                required_dirs = [\"test\", \"train\", \"valid\"]\n",
    "                required_files = [\"data.yaml\", \"README.dataset.txt\", \"README.roboflow.txt\"]\n",
    "                for req_dir in required_dirs:\n",
    "                    if not os.path.isdir(os.path.join(dataset_dir, req_dir)):\n",
    "                        shutil.rmtree(dataset_dir)\n",
    "                        return False\n",
    "                for req_file in required_files:\n",
    "                    if not os.path.isfile(os.path.join(dataset_dir, req_file)):\n",
    "                        shutil.rmtree(dataset_dir)\n",
    "                        return False\n",
    "                return True\n",
    "    return False\n",
    "\n",
    "# Vérifier et télécharger si nécessaire\n",
    "if not check_dataset_directory():\n",
    "    download_dataset()\n",
    "else:\n",
    "    print(\"Le dataset est déjà présent et complet.\")"
   ]
  },
  {
   "cell_type": "markdown",
   "id": "1927212ed47da963",
   "metadata": {},
   "source": [
    "# Entraînement du modèle YOLOv8 si le fichier yolov8n-final.pt n'existe pas\n",
    "\n",
    "Si ce n'est pas déjà fait, l'entrainement durerait en moyenne 30 minutes avec un GPU, alors que sans GPU, cela prendrait plus longtemps."
   ]
  },
  {
   "cell_type": "code",
   "execution_count": 3,
   "id": "506767bc007c78b8",
   "metadata": {
    "ExecuteTime": {
     "end_time": "2024-12-15T21:49:50.467871Z",
     "start_time": "2024-12-15T21:49:50.274723Z"
    }
   },
   "outputs": [
    {
     "name": "stdout",
     "output_type": "stream",
     "text": [
      "Utilisation du périphérique: cuda\n",
      "Model déjà existant\n"
     ]
    }
   ],
   "source": [
    "# Définir le périphérique en fonction de la disponibilité du GPU\n",
    "device = torch.device(\"cuda\" if torch.cuda.is_available() else \"cpu\")\n",
    "print(f\"Utilisation du périphérique: {device}\")\n",
    "\n",
    "# Charger le modèle YOLOv8 et déplacer sur le GPU si disponible\n",
    "\n",
    "name_file = \"yolov8n-final.pt\"\n",
    "\n",
    "model = None\n",
    "\n",
    "if not os.path.exists(name_file):\n",
    "    model = YOLO('yolov8n.pt').to(device)\n",
    "    # Charger les données d'entraînement\n",
    "    data_yaml_path = 'DBF-5/data.yaml'\n",
    "\n",
    "    # Vérifier si le fichier data.yaml existe\n",
    "    if not os.path.exists(data_yaml_path):\n",
    "        raise FileNotFoundError(f\"Le fichier {data_yaml_path} est introuvable.\")\n",
    "\n",
    "    print(\"Chargement des données d'entraînement...\")\n",
    "    try:\n",
    "        model.train(data=data_yaml_path, epochs=10, device=device, batch=8)\n",
    "        print(\"Entraînement terminé.\")\n",
    "        model.save(name_file)\n",
    "        print(\"Model sauvegardé avec succès.\")\n",
    "    except Exception as e:\n",
    "        print(f\"Erreur lors de l'entraînement du modèle: {e}\")\n",
    "else:\n",
    "    print(\"Model déjà existant\")\n",
    "    model = YOLO(name_file).to(device)"
   ]
  },
  {
   "cell_type": "markdown",
   "id": "25753a9b3db4824a",
   "metadata": {},
   "source": [
    "# Utilisation du modèle YOLOv8 pour la détection en temps réel\n",
    "\n",
    "Ce code permet de prendre un fichier vidéo aléatoire dans le dossier mp4 et d'effectuer la détection d'objets en temps réel sur cette vidéo."
   ]
  },
  {
   "cell_type": "code",
   "id": "ee2dfeb0c22d78aa",
   "metadata": {
    "ExecuteTime": {
     "end_time": "2024-12-15T22:05:18.867430Z",
     "start_time": "2024-12-15T22:05:18.656566Z"
    }
   },
   "source": [
    "# Sélectionner un fichier MP4 aléatoire dans le dossier mp4\n",
    "mp4_dir = 'mp4'\n",
    "mp4_files = [f for f in os.listdir(mp4_dir) if f.endswith('.mp4')]\n",
    "random_mp4 = random.choice(mp4_files)\n",
    "video_path = os.path.join(mp4_dir, random_mp4)\n",
    "\n",
    "print(f\"Utilisation du fichier vidéo: {video_path}\")\n",
    "\n",
    "# Ouvrir la vidéo et effectuer la détection\n",
    "cap = cv2.VideoCapture(video_path)\n",
    "\n",
    "while cap.isOpened():\n",
    "    ret, frame = cap.read()\n",
    "    if not ret:\n",
    "        break\n",
    "\n",
    "    # Effectuer la détection directement sur le frame (sans conversion en tenseur)\n",
    "    results = model(frame)\n",
    "\n",
    "    # Traiter les résultats\n",
    "    for result in results:\n",
    "        for box in result.boxes:\n",
    "            try:\n",
    "                x1, y1, x2, y2 = box.xyxy[0]\n",
    "                label = result.names[int(box.cls)]\n",
    "                confidence = box.conf[0]\n",
    "            except (ValueError, IndexError, AttributeError) as e:\n",
    "                print(f\"Erreur lors de la lecture des coordonnées: {e}\")\n",
    "                continue\n",
    "            # Dessiner le rectangle et le label sur le frame\n",
    "            cv2.rectangle(frame, (int(x1), int(y1)), (int(x2), int(y2)), (0, 0, 255), 2)\n",
    "            cv2.putText(frame, f'{label} {confidence:.2f}', (int(x1), int(y1) + 20),\n",
    "                        cv2.FONT_HERSHEY_SIMPLEX, 0.9, (0, 0, 255), 2)\n",
    "\n",
    "    # Afficher le frame dans une fenêtre OpenCV\n",
    "    cv2.imshow('YOLO Detection', frame)\n",
    "\n",
    "    # Quitter si 'q' est pressé\n",
    "    if cv2.waitKey(1) & 0xFF == ord('q'):\n",
    "        break\n",
    "\n",
    "cap.release()\n",
    "cv2.destroyAllWindows()\n"
   ],
   "outputs": [
    {
     "ename": "NameError",
     "evalue": "name 'os' is not defined",
     "output_type": "error",
     "traceback": [
      "\u001B[1;31m---------------------------------------------------------------------------\u001B[0m",
      "\u001B[1;31mNameError\u001B[0m                                 Traceback (most recent call last)",
      "Cell \u001B[1;32mIn[1], line 3\u001B[0m\n\u001B[0;32m      1\u001B[0m \u001B[38;5;66;03m# Sélectionner un fichier MP4 aléatoire dans le dossier mp4\u001B[39;00m\n\u001B[0;32m      2\u001B[0m mp4_dir \u001B[38;5;241m=\u001B[39m \u001B[38;5;124m'\u001B[39m\u001B[38;5;124mmp4\u001B[39m\u001B[38;5;124m'\u001B[39m\n\u001B[1;32m----> 3\u001B[0m mp4_files \u001B[38;5;241m=\u001B[39m [f \u001B[38;5;28;01mfor\u001B[39;00m f \u001B[38;5;129;01min\u001B[39;00m \u001B[43mos\u001B[49m\u001B[38;5;241m.\u001B[39mlistdir(mp4_dir) \u001B[38;5;28;01mif\u001B[39;00m f\u001B[38;5;241m.\u001B[39mendswith(\u001B[38;5;124m'\u001B[39m\u001B[38;5;124m.mp4\u001B[39m\u001B[38;5;124m'\u001B[39m)]\n\u001B[0;32m      4\u001B[0m random_mp4 \u001B[38;5;241m=\u001B[39m random\u001B[38;5;241m.\u001B[39mchoice(mp4_files)\n\u001B[0;32m      5\u001B[0m video_path \u001B[38;5;241m=\u001B[39m os\u001B[38;5;241m.\u001B[39mpath\u001B[38;5;241m.\u001B[39mjoin(mp4_dir, random_mp4)\n",
      "\u001B[1;31mNameError\u001B[0m: name 'os' is not defined"
     ]
    }
   ],
   "execution_count": 1
  },
  {
   "cell_type": "code",
   "execution_count": null,
   "id": "a7b243da5cd41d94",
   "metadata": {},
   "outputs": [],
   "source": []
  }
 ],
 "metadata": {
  "kernelspec": {
   "display_name": "Python 3",
   "language": "python",
   "name": "python3"
  },
  "language_info": {
   "codemirror_mode": {
    "name": "ipython",
    "version": 3
   },
   "file_extension": ".py",
   "mimetype": "text/x-python",
   "name": "python",
   "nbconvert_exporter": "python",
   "pygments_lexer": "ipython3",
   "version": "3.12.2"
  }
 },
 "nbformat": 4,
 "nbformat_minor": 5
}
